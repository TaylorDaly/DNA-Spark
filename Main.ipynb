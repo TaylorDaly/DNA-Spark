{
 "cells": [
  {
   "cell_type": "code",
   "execution_count": null,
   "metadata": {},
   "outputs": [],
   "source": [
    "# # This cell runs bowtie locally, uncomment last line to run the command and test your bowtie\n",
    "# \n",
    "# import os\n",
    "# # wget index and SRR043378 directly into project folder\n",
    "# threads = 4  # Can be changed\n",
    "# # folder name then file name\n",
    "# bowtieIndex = \"GCA_000001405.15_GRCh38_no_alt_analysis_set.fna.bowtie_index/\" \\\n",
    "#               \"GCA_000001405.15_GRCh38_no_alt_analysis_set.fna.bowtie_index\"\n",
    "# # fastq read file\n",
    "# reads = \"SRR043378_1.fastq/data\"\n",
    "# cmd = \"bowtie2 -p \"+str(threads)+\" -x \" + bowtieIndex + \" -U \"+reads+\" -S out.sam\"\n",
    "# \n",
    "# \n",
    "# os.system(cmd)"
   ]
  },
  {
   "cell_type": "code",
   "execution_count": 5,
   "metadata": {},
   "outputs": [
    {
     "name": "stdout",
     "output_type": "stream",
     "text": [
      "3.1413872\n"
     ]
    }
   ],
   "source": [
    "# # This cell tests pyspark\n",
    "# \n",
    "# import pyspark\n",
    "# import random\n",
    "# sc = pyspark.SparkContext(appName=\"Pi\")\n",
    "# num_samples = 100000000\n",
    "# \n",
    "# \n",
    "# def inside(p):     \n",
    "#     x, y = random.random(), random.random()\n",
    "#     return x*x + y*y < 1\n",
    "# \n",
    "# \n",
    "# count = sc.parallelize(range(0, num_samples)).filter(inside).count()  \n",
    "# pi = 4 * count / num_samples\n",
    "# print(pi)\n",
    "# sc.stop()"
   ]
  },
  {
   "cell_type": "code",
   "execution_count": 1,
   "metadata": {},
   "outputs": [],
   "source": [
    "# import pyspark\n",
    "# import os\n",
    "# \n",
    "# # new sparkContext\n",
    "# sc = pyspark.SparkContext(appName=\"DNA\")"
   ]
  },
  {
   "cell_type": "code",
   "execution_count": 2,
   "metadata": {},
   "outputs": [],
   "source": [
    "#######################################################################################################\n",
    "# TODO: Put files in hdfs, split file into parts for each worker to process (should be able to just run\n",
    "# bowtie2 command on each mapper node). Then run mapper, should output however many files there are \n",
    "# nodes, then combine the output files. \n",
    "#######################################################################################################\n",
    "\n",
    " \n",
    "# # Basis for map function, output files probably need different names for different nodes and file \n",
    "# # locations need to be changed to the hdfs location\n",
    "# threads = 1  # Can be changed\n",
    "# # folder name then file name\n",
    "# bowtieIndex = \"GCA_000001405.15_GRCh38_no_alt_analysis_set.fna.bowtie_index/\" \\\n",
    "#               \"GCA_000001405.15_GRCh38_no_alt_analysis_set.fna.bowtie_index\"\n",
    "# # fastq read file\n",
    "# reads = \"SRR043378_1.fastq/data\"\n",
    "# cmd = \"bowtie2 -p \" + str(threads) + \" -x \" + bowtieIndex + \" -U \" + reads + \" -S out.sam\"\n"
   ]
  },
  {
   "cell_type": "code",
   "execution_count": 1,
   "metadata": {},
   "outputs": [],
   "source": [
    "#import findspark\n",
    "#findspark.init('/home/taylor/spark')\n",
    "\n",
    "from pyspark import SparkConf, SparkContext\n",
    "from pyspark.sql import SQLContext\n",
    "\n",
    "\n",
    "conf = SparkConf().setMaster(\"local\").setAppName(\"DNA\")\n",
    "\n",
    "sc = SparkContext(conf=conf)\n"
   ]
  },
  {
   "cell_type": "code",
   "execution_count": 2,
   "metadata": {},
   "outputs": [],
   "source": [
    "raw_input = (sc.textFile(\"SRR043378_1.fastq/data\")).zipWithIndex()\n"
   ]
  },
  {
   "cell_type": "code",
   "execution_count": 3,
   "metadata": {},
   "outputs": [
    {
     "data": {
      "text/plain": [
       "[('@SRR043378.1 618UWAAXX100205:6:1:995:4021/1', 0),\n ('NNNNNNNNNNNNNNNNNNNNNNNNNNNNNNNNNNNNNNNNNNNNNNNNNNNNNNNNNNNNNNNNNNNNNNNNNNNN',\n  1),\n ('+', 2),\n ('!!!!!!!!!!!!!!!!!!!!!!!!!!!!!!!!!!!!!!!!!!!!!!!!!!!!!!!!!!!!!!!!!!!!!!!!!!!!',\n  3),\n ('@SRR043378.2 618UWAAXX100205:6:1:996:5311/1', 4),\n ('NNNNNNNNNNNNNNNNNNNNNNNNNNNNNNNNNNNNNNNNNNNNNNNNNNNNNNNNNNNNNNNNNNNNNNNNNNNN',\n  5),\n ('+', 6),\n ('!!!!!!!!!!!!!!!!!!!!!!!!!!!!!!!!!!!!!!!!!!!!!!!!!!!!!!!!!!!!!!!!!!!!!!!!!!!!',\n  7),\n ('@SRR043378.3 618UWAAXX100205:6:1:996:10707/1', 8),\n ('NNNNNNNNNNNNNNNNNNNNNNNNNNNNNNNNNNNNNNNNNNNNNNNNNNNNNNNNNNNNNNNNNNNNNNNNNNNN',\n  9)]"
      ]
     },
     "execution_count": 3,
     "metadata": {},
     "output_type": "execute_result"
    }
   ],
   "source": [
    "raw_input.take(10)"
   ]
  },
  {
   "cell_type": "code",
   "execution_count": 9,
   "metadata": {},
   "outputs": [],
   "source": [
    "import math\n",
    "indexed_raw_input = raw_input.map(lambda x: (math.floor(x[1]/4), x[0]))"
   ]
  },
  {
   "cell_type": "code",
   "execution_count": 10,
   "metadata": {},
   "outputs": [
    {
     "data": {
      "text/plain": [
       "[(0, '@SRR043378.1 618UWAAXX100205:6:1:995:4021/1'),\n (0,\n  'NNNNNNNNNNNNNNNNNNNNNNNNNNNNNNNNNNNNNNNNNNNNNNNNNNNNNNNNNNNNNNNNNNNNNNNNNNNN'),\n (0, '+'),\n (0,\n  '!!!!!!!!!!!!!!!!!!!!!!!!!!!!!!!!!!!!!!!!!!!!!!!!!!!!!!!!!!!!!!!!!!!!!!!!!!!!'),\n (1, '@SRR043378.2 618UWAAXX100205:6:1:996:5311/1'),\n (1,\n  'NNNNNNNNNNNNNNNNNNNNNNNNNNNNNNNNNNNNNNNNNNNNNNNNNNNNNNNNNNNNNNNNNNNNNNNNNNNN'),\n (1, '+'),\n (1,\n  '!!!!!!!!!!!!!!!!!!!!!!!!!!!!!!!!!!!!!!!!!!!!!!!!!!!!!!!!!!!!!!!!!!!!!!!!!!!!'),\n (2, '@SRR043378.3 618UWAAXX100205:6:1:996:10707/1'),\n (2,\n  'NNNNNNNNNNNNNNNNNNNNNNNNNNNNNNNNNNNNNNNNNNNNNNNNNNNNNNNNNNNNNNNNNNNNNNNNNNNN')]"
      ]
     },
     "execution_count": 10,
     "metadata": {},
     "output_type": "execute_result"
    }
   ],
   "source": [
    "indexed_raw_input.take(10)"
   ]
  },
  {
   "cell_type": "code",
   "execution_count": 13,
   "metadata": {},
   "outputs": [],
   "source": [
    "reads = indexed_raw_input.groupByKey()#.mapValues(lambda x1, x2, x3, x4: x1+x2+x3+x4)"
   ]
  },
  {
   "cell_type": "code",
   "execution_count": 16,
   "metadata": {},
   "outputs": [],
   "source": [
    "reads.take(10)\n"
   ]
  },
  {
   "cell_type": "code",
   "execution_count": 22,
   "metadata": {},
   "outputs": [],
   "source": [
    "#reads.mapValues(list).take(10)\n",
    "#reads.reduce(lambda x: x[1]+x[2]+x[3]+x[4])\n"
   ]
  },
  {
   "cell_type": "code",
   "execution_count": 19,
   "metadata": {},
   "outputs": [],
   "source": [
    "reads.take(10)\n"
   ]
  },
  {
   "cell_type": "code",
   "execution_count": null,
   "metadata": {},
   "outputs": [
    {
     "name": "stderr",
     "output_type": "stream",
     "text": [
      "ERROR:py4j.java_gateway:An error occurred while trying to connect to the Java server (127.0.0.1:36013)\nTraceback (most recent call last):\n  File \"/home/taylor/PycharmProjects/DNA_Project/venv/lib/python3.6/site-packages/py4j/java_gateway.py\", line 852, in _get_connection\n    connection = self.deque.pop()\nIndexError: pop from an empty deque\n\nDuring handling of the above exception, another exception occurred:\n\nTraceback (most recent call last):\n  File \"/home/taylor/PycharmProjects/DNA_Project/venv/lib/python3.6/site-packages/py4j/java_gateway.py\", line 990, in start\n    self.socket.connect((self.address, self.port))\nConnectionRefusedError: [Errno 111] Connection refused\n"
     ]
    },
    {
     "name": "stderr",
     "output_type": "stream",
     "text": [
      "/home/taylor/PycharmProjects/DNA_Project/venv/lib/python3.6/site-packages/pyspark/context.py:410: RuntimeWarning: Unable to cleanly shutdown Spark JVM process. It is possible that the process has crashed, been killed or may also be in a zombie state.\n  RuntimeWarning\n"
     ]
    }
   ],
   "source": [
    "sc.stop()"
   ]
  },
  {
   "cell_type": "code",
   "execution_count": null,
   "metadata": {},
   "outputs": [],
   "source": []
  }
 ],
 "metadata": {
  "kernelspec": {
   "display_name": "Python 2",
   "language": "python",
   "name": "python2"
  },
  "language_info": {
   "codemirror_mode": {
    "name": "ipython",
    "version": 2
   },
   "file_extension": ".py",
   "mimetype": "text/x-python",
   "name": "python",
   "nbconvert_exporter": "python",
   "pygments_lexer": "ipython2",
   "version": "2.7.6"
  }
 },
 "nbformat": 4,
 "nbformat_minor": 0
}
