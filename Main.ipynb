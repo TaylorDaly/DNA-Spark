{
 "cells": [
  {
   "cell_type": "code",
   "execution_count": null,
   "metadata": {},
   "outputs": [],
   "source": [
    "# # This cell runs bowtie locally, uncomment last line to run the command and test your bowtie\n",
    "# \n",
    "# import os\n",
    "# # wget index and SRR043378 directly into project folder\n",
    "# threads = 4  # Can be changed\n",
    "# # folder name then file name\n",
    "# bowtieIndex = \"GCA_000001405.15_GRCh38_no_alt_analysis_set.fna.bowtie_index/\" \\\n",
    "#               \"GCA_000001405.15_GRCh38_no_alt_analysis_set.fna.bowtie_index\"\n",
    "# # fastq read file\n",
    "# reads = \"SRR043378_1.fastq/data\"\n",
    "# cmd = \"bowtie2 -p \"+str(threads)+\" -x \" + bowtieIndex + \" -U \"+reads+\" -S out.sam\"\n",
    "# \n",
    "# \n",
    "# os.system(cmd)"
   ]
  },
  {
   "cell_type": "code",
   "execution_count": 5,
   "metadata": {},
   "outputs": [
    {
     "name": "stdout",
     "output_type": "stream",
     "text": [
      "3.1413872\n"
     ]
    }
   ],
   "source": [
    "# # This cell tests pyspark\n",
    "# \n",
    "# import pyspark\n",
    "# import random\n",
    "# sc = pyspark.SparkContext(appName=\"Pi\")\n",
    "# num_samples = 100000000\n",
    "# \n",
    "# \n",
    "# def inside(p):     \n",
    "#     x, y = random.random(), random.random()\n",
    "#     return x*x + y*y < 1\n",
    "# \n",
    "# \n",
    "# count = sc.parallelize(range(0, num_samples)).filter(inside).count()  \n",
    "# pi = 4 * count / num_samples\n",
    "# print(pi)\n",
    "# sc.stop()"
   ]
  },
  {
   "cell_type": "code",
   "execution_count": 1,
   "metadata": {},
   "outputs": [],
   "source": [
    "# import pyspark\n",
    "# import os\n",
    "# \n",
    "# # new sparkContext\n",
    "# sc = pyspark.SparkContext(appName=\"DNA\")"
   ]
  },
  {
   "cell_type": "code",
   "execution_count": 2,
   "metadata": {},
   "outputs": [],
   "source": [
    "#######################################################################################################\n",
    "# TODO: Put files in hdfs, split file into parts for each worker to process (should be able to just run\n",
    "# bowtie2 command on each mapper node). Then run mapper, should output however many files there are \n",
    "# nodes, then combine the output files. \n",
    "#######################################################################################################\n",
    "\n",
    " \n",
    "# # Basis for map function, output files probably need different names for different nodes and file \n",
    "# # locations need to be changed to the hdfs location\n",
    "# threads = 1  # Can be changed\n",
    "# # folder name then file name\n",
    "# bowtieIndex = \"GCA_000001405.15_GRCh38_no_alt_analysis_set.fna.bowtie_index/\" \\\n",
    "#               \"GCA_000001405.15_GRCh38_no_alt_analysis_set.fna.bowtie_index\"\n",
    "# # fastq read file\n",
    "# reads = \"SRR043378_1.fastq/data\"\n",
    "# cmd = \"bowtie2 -p \" + str(threads) + \" -x \" + bowtieIndex + \" -U \" + reads + \" -S out.sam\"\n"
   ]
  },
  {
   "cell_type": "code",
   "execution_count": 1,
   "metadata": {},
   "outputs": [],
   "source": [
    "#import findspark\n",
    "#findspark.init('/home/taylor/spark')\n",
    "\n",
    "from pyspark import SparkConf, SparkContext\n",
    "import math\n",
    "from pyspark.sql import SQLContext\n",
    "\n",
    "\n",
    "conf = SparkConf().setMaster(\"local\").setAppName(\"DNA\")\n",
    "\n",
    "sc = SparkContext(conf=conf)\n"
   ]
  },
  {
   "cell_type": "code",
   "execution_count": 2,
   "metadata": {},
   "outputs": [],
   "source": [
    "# creates tuples with format (line number, string)\n",
    "raw_input = (sc.textFile(\"SRR043378_1.fastq/data\")).zipWithIndex()\n"
   ]
  },
  {
   "cell_type": "code",
   "execution_count": 3,
   "metadata": {},
   "outputs": [],
   "source": [
    "# raw_input.take(10)"
   ]
  },
  {
   "cell_type": "code",
   "execution_count": 3,
   "metadata": {},
   "outputs": [],
   "source": [
    "#import math\n",
    "# create tuple with format (read number, string)\n",
    "indexed_raw_input = raw_input.map(lambda x: (math.floor(x[1]/4), x[0]))"
   ]
  },
  {
   "cell_type": "code",
   "execution_count": 4,
   "metadata": {},
   "outputs": [],
   "source": [
    "# indexed_raw_input.take(10)\n",
    "def make_reads(iterable_read):\n",
    "    x = 0\n",
    "    line1 = \"\"\n",
    "    line2 = \"\"\n",
    "    line3 = \"\"\n",
    "    line4 = \"\"\n",
    "    for line in iterable_read:\n",
    "        if x == 0:\n",
    "            line1 = line\n",
    "        if x == 1:\n",
    "            line2 = line\n",
    "        if x == 2:\n",
    "            line3 = line\n",
    "        if x == 3:\n",
    "            line4 = line\n",
    "        x = x+1\n",
    "    return \"%s\\n%s\\n%s\\n%s\\n\" % (line1, line2, line3, line4)"
   ]
  },
  {
   "cell_type": "code",
   "execution_count": 6,
   "metadata": {},
   "outputs": [],
   "source": [
    "reads = indexed_raw_input.groupByKey().mapValues(lambda x: make_reads(x))"
   ]
  },
  {
   "cell_type": "code",
   "execution_count": 8,
   "metadata": {},
   "outputs": [
    {
     "name": "stdout",
     "output_type": "stream",
     "text": [
      "(0, '@SRR043378.1 618UWAAXX100205:6:1:995:4021/1\\nNNNNNNNNNNNNNNNNNNNNNNNNNNNNNNNNNNNNNNNNNNNNNNNNNNNNNNNNNNNNNNNNNNNNNNNNNNNN\\n+\\n!!!!!!!!!!!!!!!!!!!!!!!!!!!!!!!!!!!!!!!!!!!!!!!!!!!!!!!!!!!!!!!!!!!!!!!!!!!!\\n')\n"
     ]
    }
   ],
   "source": [
    "test = reads.take(10)\n"
   ]
  },
  {
   "cell_type": "code",
   "execution_count": null,
   "metadata": {},
   "outputs": [
    {
     "name": "stdout",
     "output_type": "stream",
     "text": [
      "(0, '@SRR043378.1 618UWAAXX100205:6:1:995:4021/1\\nNNNNNNNNNNNNNNNNNNNNNNNNNNNNNNNNNNNNNNNNNNNNNNNNNNNNNNNNNNNNNNNNNNNNNNNNNNNN\\n+\\n!!!!!!!!!!!!!!!!!!!!!!!!!!!!!!!!!!!!!!!!!!!!!!!!!!!!!!!!!!!!!!!!!!!!!!!!!!!!\\n')\n"
     ]
    }
   ],
   "source": [
    "#reads.mapValues(list).take(10)\n",
    "#reads.reduce(lambda x: x[1]+x[2]+x[3]+x[4])\n",
    "print(test[0][1])"
   ]
  },
  {
   "cell_type": "code",
   "execution_count": 25,
   "metadata": {},
   "outputs": [
    {
     "name": "stdout",
     "output_type": "stream",
     "text": [
      "(0, '@SRR043378.1 618UWAAXX100205:6:1:995:4021/1\\nNNNNNNNNNNNNNNNNNNNNNNNNNNNNNNNNNNNNNNNNNNNNNNNNNNNNNNNNNNNNNNNNNNNNNNNNNNNN\\n+\\n!!!!!!!!!!!!!!!!!!!!!!!!!!!!!!!!!!!!!!!!!!!!!!!!!!!!!!!!!!!!!!!!!!!!!!!!!!!!\\n')\n"
     ]
    }
   ],
   "source": [
    "#reads.take(10)\n"
   ]
  },
  {
   "cell_type": "code",
   "execution_count": 24,
   "metadata": {},
   "outputs": [],
   "source": [
    "sc.stop()"
   ]
  },
  {
   "cell_type": "code",
   "execution_count": null,
   "metadata": {},
   "outputs": [],
   "source": []
  }
 ],
 "metadata": {
  "kernelspec": {
   "display_name": "Python 2",
   "language": "python",
   "name": "python2"
  },
  "language_info": {
   "codemirror_mode": {
    "name": "ipython",
    "version": 2
   },
   "file_extension": ".py",
   "mimetype": "text/x-python",
   "name": "python",
   "nbconvert_exporter": "python",
   "pygments_lexer": "ipython2",
   "version": "2.7.6"
  }
 },
 "nbformat": 4,
 "nbformat_minor": 0
}
