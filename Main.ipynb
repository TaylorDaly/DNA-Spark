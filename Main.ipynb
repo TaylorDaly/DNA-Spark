{
 "cells": [
  {
   "cell_type": "code",
   "execution_count": null,
   "metadata": {},
   "outputs": [],
   "source": [
    "# # This cell runs bowtie locally, uncomment last line to run the command and test your bowtie\n",
    "# \n",
    "# import os\n",
    "# # wget index and SRR043378 directly into project folder\n",
    "# threads = 4  # Can be changed\n",
    "# # folder name then file name\n",
    "# bowtieIndex = \"GCA_000001405.15_GRCh38_no_alt_analysis_set.fna.bowtie_index/\" \\\n",
    "#               \"GCA_000001405.15_GRCh38_no_alt_analysis_set.fna.bowtie_index\"\n",
    "# # fastq read file\n",
    "# reads = \"SRR043378_1.fastq/data\"\n",
    "# cmd = \"bowtie2 -p \"+str(threads)+\" -x \" + bowtieIndex + \" -U \"+reads+\" -S out.sam\"\n",
    "# \n",
    "# \n",
    "# os.system(cmd)"
   ]
  },
  {
   "cell_type": "code",
   "execution_count": 1,
   "metadata": {},
   "outputs": [],
   "source": [
    "# import pyspark\n",
    "# import os\n",
    "# \n",
    "# # new sparkContext\n",
    "# sc = pyspark.SparkContext(appName=\"DNA\")"
   ]
  },
  {
   "cell_type": "code",
   "execution_count": 2,
   "metadata": {},
   "outputs": [],
   "source": [
    "# # Basis for map function, output files probably need different names for different nodes and file \n",
    "# # locations need to be changed to the hdfs location\n",
    "# threads = 1  # Can be changed\n",
    "# # folder name then file name\n",
    "# bowtieIndex = \"GCA_000001405.15_GRCh38_no_alt_analysis_set.fna.bowtie_index/\" \\\n",
    "#               \"GCA_000001405.15_GRCh38_no_alt_analysis_set.fna.bowtie_index\"\n",
    "# # fastq read file\n",
    "# reads = \"SRR043378_1.fastq/data\"\n",
    "# cmd = \"bowtie2 -p \" + str(threads) + \" -x \" + bowtieIndex + \" -U \" + reads + \" -S out.sam\"\n",
    "# os.system(cmd)"
   ]
  },
  {
   "cell_type": "code",
   "execution_count": 1,
   "metadata": {},
   "outputs": [],
   "source": [
    "#import findspark\n",
    "#findspark.init('/home/taylor/spark')\n",
    "\n",
    "from pyspark import SparkConf, SparkContext\n",
    "import math\n",
    "from pyspark.sql import SQLContext\n",
    "\n",
    "\n",
    "conf = SparkConf().setMaster(\"local\").setAppName(\"DNA\")\n",
    "\n",
    "sc = SparkContext(conf=conf)"
   ]
  },
  {
   "cell_type": "code",
   "execution_count": 2,
   "metadata": {},
   "outputs": [],
   "source": [
    "# creates tuples with format (line number, string)\n",
    "raw_input = (sc.textFile(\"SRR043378_1.fastq/data\")).zipWithIndex()"
   ]
  },
  {
   "cell_type": "code",
   "execution_count": 3,
   "metadata": {},
   "outputs": [],
   "source": [
    "# create tuple with format (read number, string)\n",
    "indexed_raw_input = raw_input.map(lambda x: (math.floor(x[1]/4), x[0]))"
   ]
  },
  {
   "cell_type": "code",
   "execution_count": 4,
   "metadata": {},
   "outputs": [],
   "source": [
    "# Function to pass to map function that concatenates the 4 strings\n",
    "def make_reads(iterable_read):\n",
    "    x = 0\n",
    "    line1 = \"\"\n",
    "    line2 = \"\"\n",
    "    line3 = \"\"\n",
    "    line4 = \"\"\n",
    "    for line in iterable_read:\n",
    "        if x == 0:\n",
    "            line1 = line\n",
    "        if x == 1:\n",
    "            line2 = line\n",
    "        if x == 2:\n",
    "            line3 = line\n",
    "        if x == 3:\n",
    "            line4 = line\n",
    "        x = x+1\n",
    "    return \"%s\\n%s\\n%s\\n%s\\n\" % (line1, line2, line3, line4)"
   ]
  },
  {
   "cell_type": "code",
   "execution_count": 5,
   "metadata": {},
   "outputs": [],
   "source": [
    "reads = indexed_raw_input.groupByKey().mapValues(lambda x: make_reads(x))"
   ]
  },
  {
   "cell_type": "code",
   "execution_count": 27,
   "metadata": {},
   "outputs": [],
   "source": [
    "test = reads.take(10)"
   ]
  },
  {
   "cell_type": "code",
   "execution_count": 28,
   "metadata": {},
   "outputs": [
    {
     "name": "stdout",
     "output_type": "stream",
     "text": [
      "@SRR043378.1 618UWAAXX100205:6:1:995:4021/1\nNNNNNNNNNNNNNNNNNNNNNNNNNNNNNNNNNNNNNNNNNNNNNNNNNNNNNNNNNNNNNNNNNNNNNNNNNNNN\n+\n!!!!!!!!!!!!!!!!!!!!!!!!!!!!!!!!!!!!!!!!!!!!!!!!!!!!!!!!!!!!!!!!!!!!!!!!!!!!\n\n"
     ]
    }
   ],
   "source": [
    "# Test get one record (brackets denote first tuple, second field because it is in format (0, read), (1, read) etc...)\n",
    "print(test[0][1])"
   ]
  },
  {
   "cell_type": "code",
   "execution_count": 21,
   "metadata": {},
   "outputs": [
    {
     "name": "stdout",
     "output_type": "stream",
     "text": [
      "@SRR043378.1 618UWAAXX100205:6:1:995:4021/1\nNNNNNNNNNNNNNNNNNNNNNNNNNNNNNNNNNNNNNNNNNNNNNNNNNNNNNNNNNNNNNNNNNNNNNNNNNNNN\n+\n!!!!!!!!!!!!!!!!!!!!!!!!!!!!!!!!!!!!!!!!!!!!!!!!!!!!!!!!!!!!!!!!!!!!!!!!!!!!\n\n"
     ]
    }
   ],
   "source": [
    "num_reads = reads.count()"
   ]
  },
  {
   "cell_type": "code",
   "execution_count": 25,
   "metadata": {},
   "outputs": [
    {
     "name": "stdout",
     "output_type": "stream",
     "text": [
      "@SRR043378.1 618UWAAXX100205:6:1:995:4021/1\nNNNNNNNNNNNNNNNNNNNNNNNNNNNNNNNNNNNNNNNNNNNNNNNNNNNNNNNNNNNNNNNNNNNNNNNNNNNN\n+\n!!!!!!!!!!!!!!!!!!!!!!!!!!!!!!!!!!!!!!!!!!!!!!!!!!!!!!!!!!!!!!!!!!!!!!!!!!!!\n\n"
     ]
    }
   ],
   "source": [
    "print(\"Number of reads: %s\" % num_reads)\n",
    "# 16,924,141 reads"
   ]
  },
  {
   "cell_type": "code",
   "execution_count": null,
   "metadata": {},
   "outputs": [
    {
     "name": "stdout",
     "output_type": "stream",
     "text": [
      "@SRR043378.1 618UWAAXX100205:6:1:995:4021/1\nNNNNNNNNNNNNNNNNNNNNNNNNNNNNNNNNNNNNNNNNNNNNNNNNNNNNNNNNNNNNNNNNNNNNNNNNNNNN\n+\n!!!!!!!!!!!!!!!!!!!!!!!!!!!!!!!!!!!!!!!!!!!!!!!!!!!!!!!!!!!!!!!!!!!!!!!!!!!!\n\n"
     ]
    }
   ],
   "source": [
    "# TODO: split data into batches and send to bowtie \n",
    "# https://github.com/citiususc/SparkBWA/blob/master/src/main/java/com/github/sparkbwa/BwaAlignmentBase.java"
   ]
  },
  {
   "cell_type": "code",
   "execution_count": null,
   "metadata": {},
   "outputs": [],
   "source": [
    "sc.stop()"
   ]
  },
  {
   "cell_type": "code",
   "execution_count": null,
   "metadata": {},
   "outputs": [],
   "source": []
  }
 ],
 "metadata": {
  "kernelspec": {
   "display_name": "Python 2",
   "language": "python",
   "name": "python2"
  },
  "language_info": {
   "codemirror_mode": {
    "name": "ipython",
    "version": 2
   },
   "file_extension": ".py",
   "mimetype": "text/x-python",
   "name": "python",
   "nbconvert_exporter": "python",
   "pygments_lexer": "ipython2",
   "version": "2.7.6"
  }
 },
 "nbformat": 4,
 "nbformat_minor": 0
}
